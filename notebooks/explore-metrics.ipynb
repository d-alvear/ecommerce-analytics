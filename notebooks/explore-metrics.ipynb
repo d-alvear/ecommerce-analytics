{
 "metadata": {
  "language_info": {
   "codemirror_mode": {
    "name": "ipython",
    "version": 3
   },
   "file_extension": ".py",
   "mimetype": "text/x-python",
   "name": "python",
   "nbconvert_exporter": "python",
   "pygments_lexer": "ipython3",
   "version": "3.7.4-final"
  },
  "orig_nbformat": 2,
  "kernelspec": {
   "name": "python3",
   "display_name": "Python 3",
   "language": "python"
  }
 },
 "nbformat": 4,
 "nbformat_minor": 2,
 "cells": [
  {
   "source": [
    "# Metric Exploration\n",
    "\n",
    "### Metrics of Interest\n",
    "\n",
    "1. Monthly New Customers\n",
    "2. Monthly Retention Rate\n",
    "3. Monthly Active Users\n",
    "4. Daily Active Users\n",
    "5. Total Monthly Orders\n",
    "6. Total Daily Orders\n",
    "7. Daily Views Per Category\n",
    "8. Engagement Rates (Per Action)\n"
   ],
   "cell_type": "markdown",
   "metadata": {}
  },
  {
   "cell_type": "code",
   "execution_count": 3,
   "metadata": {},
   "outputs": [],
   "source": [
    "import sys\n",
    "sys.path.insert(0, \"..\")\n",
    "import pandas as pd\n",
    "import numpy as np\n",
    "import psycopg2 as pg\n",
    "from secret import sql_credentials\n",
    "\n",
    "conn = pg.connect(database=sql_credentials['database'],\n",
    "                  user=sql_credentials['user'], \n",
    "                  password=sql_credentials['password'])\n",
    "\n",
    "conn.autocommit = True\n",
    "\n",
    "def run_query(q):\n",
    "    with conn:\n",
    "        try:\n",
    "            cur = conn.cursor()\n",
    "            cur.execute(q)\n",
    "            return pd.read_sql(q, conn)\n",
    "\n",
    "        except (Exception, pg.DatabaseError) as error:\n",
    "            print(error)"
   ]
  },
  {
   "source": [
    "### Monthly New Customers\n",
    "Since I want to find new customers per month, and I don't have user sign up date, I'll use each user's first action as their `discovery_date`."
   ],
   "cell_type": "markdown",
   "metadata": {}
  },
  {
   "cell_type": "code",
   "execution_count": 17,
   "metadata": {},
   "outputs": [
    {
     "output_type": "execute_result",
     "data": {
      "text/plain": [
       "         user_id        first_action\n",
       "0      494649301 2019-11-05 18:25:00\n",
       "1      582585293 2019-12-05 18:54:00\n",
       "2      589546241 2019-12-22 19:28:00\n",
       "3      608744800 2020-01-31 18:35:00\n",
       "4      614199290 2020-02-16 02:05:00\n",
       "...          ...                 ...\n",
       "91091  619380425 2020-02-24 05:32:00\n",
       "91092  580189180 2019-12-01 10:37:00\n",
       "91093  611638118 2020-02-07 12:29:00\n",
       "91094  621630786 2020-02-28 20:23:00\n",
       "91095  288156953 2019-11-10 14:01:00\n",
       "\n",
       "[91096 rows x 2 columns]"
      ],
      "text/html": "<div>\n<style scoped>\n    .dataframe tbody tr th:only-of-type {\n        vertical-align: middle;\n    }\n\n    .dataframe tbody tr th {\n        vertical-align: top;\n    }\n\n    .dataframe thead th {\n        text-align: right;\n    }\n</style>\n<table border=\"1\" class=\"dataframe\">\n  <thead>\n    <tr style=\"text-align: right;\">\n      <th></th>\n      <th>user_id</th>\n      <th>first_action</th>\n    </tr>\n  </thead>\n  <tbody>\n    <tr>\n      <th>0</th>\n      <td>494649301</td>\n      <td>2019-11-05 18:25:00</td>\n    </tr>\n    <tr>\n      <th>1</th>\n      <td>582585293</td>\n      <td>2019-12-05 18:54:00</td>\n    </tr>\n    <tr>\n      <th>2</th>\n      <td>589546241</td>\n      <td>2019-12-22 19:28:00</td>\n    </tr>\n    <tr>\n      <th>3</th>\n      <td>608744800</td>\n      <td>2020-01-31 18:35:00</td>\n    </tr>\n    <tr>\n      <th>4</th>\n      <td>614199290</td>\n      <td>2020-02-16 02:05:00</td>\n    </tr>\n    <tr>\n      <th>...</th>\n      <td>...</td>\n      <td>...</td>\n    </tr>\n    <tr>\n      <th>91091</th>\n      <td>619380425</td>\n      <td>2020-02-24 05:32:00</td>\n    </tr>\n    <tr>\n      <th>91092</th>\n      <td>580189180</td>\n      <td>2019-12-01 10:37:00</td>\n    </tr>\n    <tr>\n      <th>91093</th>\n      <td>611638118</td>\n      <td>2020-02-07 12:29:00</td>\n    </tr>\n    <tr>\n      <th>91094</th>\n      <td>621630786</td>\n      <td>2020-02-28 20:23:00</td>\n    </tr>\n    <tr>\n      <th>91095</th>\n      <td>288156953</td>\n      <td>2019-11-10 14:01:00</td>\n    </tr>\n  </tbody>\n</table>\n<p>91096 rows × 2 columns</p>\n</div>"
     },
     "metadata": {},
     "execution_count": 17
    }
   ],
   "source": [
    "q = '''\n",
    "    SELECT u.user_id, first_action\n",
    "    FROM users u\n",
    "    LEFT JOIN (SELECT DISTINCT user_id, \n",
    "                      MIN(event_time) AS first_action \n",
    "               FROM events\n",
    "               GROUP BY 1) t\n",
    "    ON u.user_id = t.user_id\n",
    "    '''\n",
    "\n",
    "run_query(q)"
   ]
  }
 ]
}