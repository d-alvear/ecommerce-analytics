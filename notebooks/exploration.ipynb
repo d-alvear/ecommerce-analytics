{
 "metadata": {
  "language_info": {
   "codemirror_mode": {
    "name": "ipython",
    "version": 3
   },
   "file_extension": ".py",
   "mimetype": "text/x-python",
   "name": "python",
   "nbconvert_exporter": "python",
   "pygments_lexer": "ipython3",
   "version": "3.7.4-final"
  },
  "orig_nbformat": 2,
  "kernelspec": {
   "name": "python3",
   "display_name": "Python 3",
   "language": "python"
  }
 },
 "nbformat": 4,
 "nbformat_minor": 2,
 "cells": [
  {
   "cell_type": "code",
   "execution_count": 1,
   "metadata": {},
   "outputs": [],
   "source": [
    "import pandas as pd\n",
    "import numpy as np\n",
    "import psycopg2 as pg\n",
    "from secret import sql_credentials\n",
    "\n",
    "conn = pg.connect(database=sql_credentials['database'],\n",
    "                  user=sql_credentials['user'], \n",
    "                  password=sql_credentials['password'])\n",
    "\n",
    "conn.autocommit = True\n",
    "\n",
    "def run_query(q):\n",
    "    with conn:\n",
    "        try:\n",
    "            cur = conn.cursor()\n",
    "            cur.execute(q)\n",
    "            return pd.read_sql(q, conn)\n",
    "\n",
    "        except (Exception, pg.DatabaseError) as error:\n",
    "            print(error)"
   ]
  },
  {
   "cell_type": "code",
   "execution_count": 4,
   "metadata": {},
   "outputs": [
    {
     "output_type": "execute_result",
     "data": {
      "text/plain": [
       "  date_trunc  num_visits\n",
       "0 2019-10-01       31304\n",
       "1 2019-11-01       35705\n",
       "2 2019-12-01       27954\n",
       "3 2020-01-01       34709\n",
       "4 2020-02-01       35730"
      ],
      "text/html": "<div>\n<style scoped>\n    .dataframe tbody tr th:only-of-type {\n        vertical-align: middle;\n    }\n\n    .dataframe tbody tr th {\n        vertical-align: top;\n    }\n\n    .dataframe thead th {\n        text-align: right;\n    }\n</style>\n<table border=\"1\" class=\"dataframe\">\n  <thead>\n    <tr style=\"text-align: right;\">\n      <th></th>\n      <th>date_trunc</th>\n      <th>num_visits</th>\n    </tr>\n  </thead>\n  <tbody>\n    <tr>\n      <th>0</th>\n      <td>2019-10-01</td>\n      <td>31304</td>\n    </tr>\n    <tr>\n      <th>1</th>\n      <td>2019-11-01</td>\n      <td>35705</td>\n    </tr>\n    <tr>\n      <th>2</th>\n      <td>2019-12-01</td>\n      <td>27954</td>\n    </tr>\n    <tr>\n      <th>3</th>\n      <td>2020-01-01</td>\n      <td>34709</td>\n    </tr>\n    <tr>\n      <th>4</th>\n      <td>2020-02-01</td>\n      <td>35730</td>\n    </tr>\n  </tbody>\n</table>\n</div>"
     },
     "metadata": {},
     "execution_count": 4
    }
   ],
   "source": [
    "q = '''SELECT DATE_TRUNC('month', event_time), \n",
    "              COUNT(DISTINCT user_session) AS num_visits\n",
    "       FROM events\n",
    "       GROUP BY 1 \n",
    "    '''\n",
    "\n",
    "df = run_query(q)\n",
    "df"
   ]
  }
 ]
}